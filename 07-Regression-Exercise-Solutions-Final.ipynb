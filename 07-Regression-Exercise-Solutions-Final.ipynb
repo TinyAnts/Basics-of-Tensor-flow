{
 "cells": [
  {
   "cell_type": "markdown",
   "metadata": {},
   "source": [
    "# Regression Exercise - Solutions\n",
    "\n",
    "California Housing Data\n",
    "\n",
    "This data set contains information about all the block groups in California from the 1990 Census. In this sample a block group on average includes 1425.5 individuals living in a geographically compact area. \n",
    "\n",
    "The task is to aproximate the median house value of each block from the values of the rest of the variables. \n",
    "\n",
    " It has been obtained from the LIACC repository. The original page where the data set can be found is: http://www.liaad.up.pt/~ltorgo/Regression/DataSets.html.\n",
    " "
   ]
  },
  {
   "cell_type": "markdown",
   "metadata": {
    "collapsed": true
   },
   "source": [
    "The Features:\n",
    " \n",
    "* housingMedianAge: continuous. \n",
    "* totalRooms: continuous. \n",
    "* totalBedrooms: continuous. \n",
    "* population: continuous. \n",
    "* households: continuous. \n",
    "* medianIncome: continuous. \n",
    "* medianHouseValue: continuous. "
   ]
  },
  {
   "cell_type": "markdown",
   "metadata": {},
   "source": [
    "## The Data"
   ]
  },
  {
   "cell_type": "markdown",
   "metadata": {},
   "source": [
    "** Import the cal_housing.csv file with pandas. Separate it into a training (70%) and testing set(30%).**"
   ]
  },
  {
   "cell_type": "code",
   "execution_count": 1,
   "metadata": {
    "collapsed": true
   },
   "outputs": [],
   "source": [
    "import pandas as pd"
   ]
  },
  {
   "cell_type": "code",
   "execution_count": 2,
   "metadata": {
    "collapsed": true
   },
   "outputs": [],
   "source": [
    "housing = pd.read_csv('cal_housing_clean.csv')"
   ]
  },
  {
   "cell_type": "code",
   "execution_count": 3,
   "metadata": {},
   "outputs": [
    {
     "data": {
      "text/html": [
       "<div>\n",
       "<style>\n",
       "    .dataframe thead tr:only-child th {\n",
       "        text-align: right;\n",
       "    }\n",
       "\n",
       "    .dataframe thead th {\n",
       "        text-align: left;\n",
       "    }\n",
       "\n",
       "    .dataframe tbody tr th {\n",
       "        vertical-align: top;\n",
       "    }\n",
       "</style>\n",
       "<table border=\"1\" class=\"dataframe\">\n",
       "  <thead>\n",
       "    <tr style=\"text-align: right;\">\n",
       "      <th></th>\n",
       "      <th>housingMedianAge</th>\n",
       "      <th>totalRooms</th>\n",
       "      <th>totalBedrooms</th>\n",
       "      <th>population</th>\n",
       "      <th>households</th>\n",
       "      <th>medianIncome</th>\n",
       "      <th>medianHouseValue</th>\n",
       "    </tr>\n",
       "  </thead>\n",
       "  <tbody>\n",
       "    <tr>\n",
       "      <th>0</th>\n",
       "      <td>41.0</td>\n",
       "      <td>880.0</td>\n",
       "      <td>129.0</td>\n",
       "      <td>322.0</td>\n",
       "      <td>126.0</td>\n",
       "      <td>8.3252</td>\n",
       "      <td>452600.0</td>\n",
       "    </tr>\n",
       "    <tr>\n",
       "      <th>1</th>\n",
       "      <td>21.0</td>\n",
       "      <td>7099.0</td>\n",
       "      <td>1106.0</td>\n",
       "      <td>2401.0</td>\n",
       "      <td>1138.0</td>\n",
       "      <td>8.3014</td>\n",
       "      <td>358500.0</td>\n",
       "    </tr>\n",
       "    <tr>\n",
       "      <th>2</th>\n",
       "      <td>52.0</td>\n",
       "      <td>1467.0</td>\n",
       "      <td>190.0</td>\n",
       "      <td>496.0</td>\n",
       "      <td>177.0</td>\n",
       "      <td>7.2574</td>\n",
       "      <td>352100.0</td>\n",
       "    </tr>\n",
       "    <tr>\n",
       "      <th>3</th>\n",
       "      <td>52.0</td>\n",
       "      <td>1274.0</td>\n",
       "      <td>235.0</td>\n",
       "      <td>558.0</td>\n",
       "      <td>219.0</td>\n",
       "      <td>5.6431</td>\n",
       "      <td>341300.0</td>\n",
       "    </tr>\n",
       "    <tr>\n",
       "      <th>4</th>\n",
       "      <td>52.0</td>\n",
       "      <td>1627.0</td>\n",
       "      <td>280.0</td>\n",
       "      <td>565.0</td>\n",
       "      <td>259.0</td>\n",
       "      <td>3.8462</td>\n",
       "      <td>342200.0</td>\n",
       "    </tr>\n",
       "  </tbody>\n",
       "</table>\n",
       "</div>"
      ],
      "text/plain": [
       "   housingMedianAge  totalRooms  totalBedrooms  population  households  \\\n",
       "0              41.0       880.0          129.0       322.0       126.0   \n",
       "1              21.0      7099.0         1106.0      2401.0      1138.0   \n",
       "2              52.0      1467.0          190.0       496.0       177.0   \n",
       "3              52.0      1274.0          235.0       558.0       219.0   \n",
       "4              52.0      1627.0          280.0       565.0       259.0   \n",
       "\n",
       "   medianIncome  medianHouseValue  \n",
       "0        8.3252          452600.0  \n",
       "1        8.3014          358500.0  \n",
       "2        7.2574          352100.0  \n",
       "3        5.6431          341300.0  \n",
       "4        3.8462          342200.0  "
      ]
     },
     "execution_count": 3,
     "metadata": {},
     "output_type": "execute_result"
    }
   ],
   "source": [
    "housing.head()"
   ]
  },
  {
   "cell_type": "code",
   "execution_count": 4,
   "metadata": {},
   "outputs": [
    {
     "data": {
      "text/html": [
       "<div>\n",
       "<style>\n",
       "    .dataframe thead tr:only-child th {\n",
       "        text-align: right;\n",
       "    }\n",
       "\n",
       "    .dataframe thead th {\n",
       "        text-align: left;\n",
       "    }\n",
       "\n",
       "    .dataframe tbody tr th {\n",
       "        vertical-align: top;\n",
       "    }\n",
       "</style>\n",
       "<table border=\"1\" class=\"dataframe\">\n",
       "  <thead>\n",
       "    <tr style=\"text-align: right;\">\n",
       "      <th></th>\n",
       "      <th>count</th>\n",
       "      <th>mean</th>\n",
       "      <th>std</th>\n",
       "      <th>min</th>\n",
       "      <th>25%</th>\n",
       "      <th>50%</th>\n",
       "      <th>75%</th>\n",
       "      <th>max</th>\n",
       "    </tr>\n",
       "  </thead>\n",
       "  <tbody>\n",
       "    <tr>\n",
       "      <th>housingMedianAge</th>\n",
       "      <td>20640.0</td>\n",
       "      <td>28.639486</td>\n",
       "      <td>12.585558</td>\n",
       "      <td>1.0000</td>\n",
       "      <td>18.0000</td>\n",
       "      <td>29.0000</td>\n",
       "      <td>37.00000</td>\n",
       "      <td>52.0000</td>\n",
       "    </tr>\n",
       "    <tr>\n",
       "      <th>totalRooms</th>\n",
       "      <td>20640.0</td>\n",
       "      <td>2635.763081</td>\n",
       "      <td>2181.615252</td>\n",
       "      <td>2.0000</td>\n",
       "      <td>1447.7500</td>\n",
       "      <td>2127.0000</td>\n",
       "      <td>3148.00000</td>\n",
       "      <td>39320.0000</td>\n",
       "    </tr>\n",
       "    <tr>\n",
       "      <th>totalBedrooms</th>\n",
       "      <td>20640.0</td>\n",
       "      <td>537.898014</td>\n",
       "      <td>421.247906</td>\n",
       "      <td>1.0000</td>\n",
       "      <td>295.0000</td>\n",
       "      <td>435.0000</td>\n",
       "      <td>647.00000</td>\n",
       "      <td>6445.0000</td>\n",
       "    </tr>\n",
       "    <tr>\n",
       "      <th>population</th>\n",
       "      <td>20640.0</td>\n",
       "      <td>1425.476744</td>\n",
       "      <td>1132.462122</td>\n",
       "      <td>3.0000</td>\n",
       "      <td>787.0000</td>\n",
       "      <td>1166.0000</td>\n",
       "      <td>1725.00000</td>\n",
       "      <td>35682.0000</td>\n",
       "    </tr>\n",
       "    <tr>\n",
       "      <th>households</th>\n",
       "      <td>20640.0</td>\n",
       "      <td>499.539680</td>\n",
       "      <td>382.329753</td>\n",
       "      <td>1.0000</td>\n",
       "      <td>280.0000</td>\n",
       "      <td>409.0000</td>\n",
       "      <td>605.00000</td>\n",
       "      <td>6082.0000</td>\n",
       "    </tr>\n",
       "    <tr>\n",
       "      <th>medianIncome</th>\n",
       "      <td>20640.0</td>\n",
       "      <td>3.870671</td>\n",
       "      <td>1.899822</td>\n",
       "      <td>0.4999</td>\n",
       "      <td>2.5634</td>\n",
       "      <td>3.5348</td>\n",
       "      <td>4.74325</td>\n",
       "      <td>15.0001</td>\n",
       "    </tr>\n",
       "    <tr>\n",
       "      <th>medianHouseValue</th>\n",
       "      <td>20640.0</td>\n",
       "      <td>206855.816909</td>\n",
       "      <td>115395.615874</td>\n",
       "      <td>14999.0000</td>\n",
       "      <td>119600.0000</td>\n",
       "      <td>179700.0000</td>\n",
       "      <td>264725.00000</td>\n",
       "      <td>500001.0000</td>\n",
       "    </tr>\n",
       "  </tbody>\n",
       "</table>\n",
       "</div>"
      ],
      "text/plain": [
       "                    count           mean            std         min  \\\n",
       "housingMedianAge  20640.0      28.639486      12.585558      1.0000   \n",
       "totalRooms        20640.0    2635.763081    2181.615252      2.0000   \n",
       "totalBedrooms     20640.0     537.898014     421.247906      1.0000   \n",
       "population        20640.0    1425.476744    1132.462122      3.0000   \n",
       "households        20640.0     499.539680     382.329753      1.0000   \n",
       "medianIncome      20640.0       3.870671       1.899822      0.4999   \n",
       "medianHouseValue  20640.0  206855.816909  115395.615874  14999.0000   \n",
       "\n",
       "                          25%          50%           75%          max  \n",
       "housingMedianAge      18.0000      29.0000      37.00000      52.0000  \n",
       "totalRooms          1447.7500    2127.0000    3148.00000   39320.0000  \n",
       "totalBedrooms        295.0000     435.0000     647.00000    6445.0000  \n",
       "population           787.0000    1166.0000    1725.00000   35682.0000  \n",
       "households           280.0000     409.0000     605.00000    6082.0000  \n",
       "medianIncome           2.5634       3.5348       4.74325      15.0001  \n",
       "medianHouseValue  119600.0000  179700.0000  264725.00000  500001.0000  "
      ]
     },
     "execution_count": 4,
     "metadata": {},
     "output_type": "execute_result"
    }
   ],
   "source": [
    "housing.describe().transpose()"
   ]
  },
  {
   "cell_type": "code",
   "execution_count": 5,
   "metadata": {
    "collapsed": true,
    "scrolled": true
   },
   "outputs": [],
   "source": [
    "x_data = housing.drop(['medianHouseValue'],axis=1)"
   ]
  },
  {
   "cell_type": "code",
   "execution_count": 6,
   "metadata": {
    "collapsed": true
   },
   "outputs": [],
   "source": [
    "y_val = housing['medianHouseValue']"
   ]
  },
  {
   "cell_type": "code",
   "execution_count": 7,
   "metadata": {
    "collapsed": true
   },
   "outputs": [],
   "source": [
    "from sklearn.model_selection import train_test_split"
   ]
  },
  {
   "cell_type": "code",
   "execution_count": 8,
   "metadata": {
    "collapsed": true
   },
   "outputs": [],
   "source": [
    "X_train, X_test, y_train, y_test = train_test_split(x_data,y_val,test_size=0.3,random_state=101)"
   ]
  },
  {
   "cell_type": "markdown",
   "metadata": {},
   "source": [
    "### Scale the Feature Data\n",
    "\n",
    "** Use sklearn preprocessing to create a MinMaxScaler for the feature data. Fit this scaler only to the training data. Then use it to transform X_test and X_train. Then use the scaled X_test and X_train along with pd.Dataframe to re-create two dataframes of scaled data.**"
   ]
  },
  {
   "cell_type": "code",
   "execution_count": 9,
   "metadata": {
    "collapsed": true
   },
   "outputs": [],
   "source": [
    "from sklearn.preprocessing import MinMaxScaler"
   ]
  },
  {
   "cell_type": "code",
   "execution_count": 10,
   "metadata": {
    "collapsed": true
   },
   "outputs": [],
   "source": [
    "scaler = MinMaxScaler()"
   ]
  },
  {
   "cell_type": "code",
   "execution_count": 11,
   "metadata": {},
   "outputs": [
    {
     "data": {
      "text/plain": [
       "MinMaxScaler(copy=True, feature_range=(0, 1))"
      ]
     },
     "execution_count": 11,
     "metadata": {},
     "output_type": "execute_result"
    }
   ],
   "source": [
    "scaler.fit(X_train)"
   ]
  },
  {
   "cell_type": "code",
   "execution_count": 12,
   "metadata": {
    "collapsed": true
   },
   "outputs": [],
   "source": [
    "X_train = pd.DataFrame(data=scaler.transform(X_train),columns = X_train.columns,index=X_train.index)"
   ]
  },
  {
   "cell_type": "code",
   "execution_count": 13,
   "metadata": {
    "collapsed": true
   },
   "outputs": [],
   "source": [
    "X_test = pd.DataFrame(data=scaler.transform(X_test),columns = X_test.columns,index=X_test.index)"
   ]
  },
  {
   "cell_type": "markdown",
   "metadata": {},
   "source": [
    "### Create Feature Columns\n",
    "\n",
    "** Create the necessary tf.feature_column objects for the estimator. They should all be trated as continuous numeric_columns. **"
   ]
  },
  {
   "cell_type": "code",
   "execution_count": 14,
   "metadata": {},
   "outputs": [
    {
     "data": {
      "text/plain": [
       "Index(['housingMedianAge', 'totalRooms', 'totalBedrooms', 'population',\n",
       "       'households', 'medianIncome', 'medianHouseValue'],\n",
       "      dtype='object')"
      ]
     },
     "execution_count": 14,
     "metadata": {},
     "output_type": "execute_result"
    }
   ],
   "source": [
    "housing.columns"
   ]
  },
  {
   "cell_type": "code",
   "execution_count": 15,
   "metadata": {
    "collapsed": true
   },
   "outputs": [],
   "source": [
    "import tensorflow as tf"
   ]
  },
  {
   "cell_type": "code",
   "execution_count": 16,
   "metadata": {
    "collapsed": true
   },
   "outputs": [],
   "source": [
    "age = tf.feature_column.numeric_column('housingMedianAge')\n",
    "rooms = tf.feature_column.numeric_column('totalRooms')\n",
    "bedrooms = tf.feature_column.numeric_column('totalBedrooms')\n",
    "pop = tf.feature_column.numeric_column('population')\n",
    "households = tf.feature_column.numeric_column('households')\n",
    "income = tf.feature_column.numeric_column('medianIncome')"
   ]
  },
  {
   "cell_type": "code",
   "execution_count": 17,
   "metadata": {
    "collapsed": true
   },
   "outputs": [],
   "source": [
    "feat_cols = [ age,rooms,bedrooms,pop,households,income]"
   ]
  },
  {
   "cell_type": "markdown",
   "metadata": {},
   "source": [
    "** Create the input function for the estimator object. (play around with batch_size and num_epochs)**"
   ]
  },
  {
   "cell_type": "code",
   "execution_count": 18,
   "metadata": {
    "collapsed": true
   },
   "outputs": [],
   "source": [
    "input_func = tf.estimator.inputs.pandas_input_fn(x=X_train,y=y_train ,batch_size=10,num_epochs=1000,\n",
    "                                            shuffle=True)"
   ]
  },
  {
   "cell_type": "markdown",
   "metadata": {},
   "source": [
    "** Create the estimator model. Use a DNNRegressor. Play around with the hidden units! **"
   ]
  },
  {
   "cell_type": "code",
   "execution_count": 19,
   "metadata": {},
   "outputs": [
    {
     "name": "stdout",
     "output_type": "stream",
     "text": [
      "INFO:tensorflow:Using default config.\n",
      "WARNING:tensorflow:Using temporary folder as model directory: C:\\Users\\TINYAN~1\\AppData\\Local\\Temp\\tmprjl5855m\n",
      "INFO:tensorflow:Using config: {'_tf_random_seed': 1, '_keep_checkpoint_every_n_hours': 10000, '_model_dir': 'C:\\\\Users\\\\TINYAN~1\\\\AppData\\\\Local\\\\Temp\\\\tmprjl5855m', '_keep_checkpoint_max': 5, '_save_checkpoints_steps': None, '_session_config': None, '_log_step_count_steps': 100, '_save_summary_steps': 100, '_save_checkpoints_secs': 600}\n"
     ]
    }
   ],
   "source": [
    "model = tf.estimator.DNNRegressor(hidden_units=[6,6,6],feature_columns=feat_cols)"
   ]
  },
  {
   "cell_type": "markdown",
   "metadata": {},
   "source": [
    "##### ** Train the model for ~1,000 steps. (Later come back to this and train it for more and check for improvement) **"
   ]
  },
  {
   "cell_type": "code",
   "execution_count": 20,
   "metadata": {},
   "outputs": [
    {
     "name": "stdout",
     "output_type": "stream",
     "text": [
      "INFO:tensorflow:Create CheckpointSaverHook.\n",
      "INFO:tensorflow:Saving checkpoints for 1 into C:\\Users\\TINYAN~1\\AppData\\Local\\Temp\\tmprjl5855m\\model.ckpt.\n",
      "INFO:tensorflow:loss = 5.31703e+11, step = 1\n",
      "INFO:tensorflow:global_step/sec: 475.969\n",
      "INFO:tensorflow:loss = 3.95881e+11, step = 101 (0.202 sec)\n",
      "INFO:tensorflow:global_step/sec: 378.505\n",
      "INFO:tensorflow:loss = 2.93873e+11, step = 201 (0.265 sec)\n",
      "INFO:tensorflow:global_step/sec: 442.49\n",
      "INFO:tensorflow:loss = 5.01389e+11, step = 301 (0.225 sec)\n",
      "INFO:tensorflow:global_step/sec: 423.809\n",
      "INFO:tensorflow:loss = 2.71964e+11, step = 401 (0.238 sec)\n",
      "INFO:tensorflow:global_step/sec: 395.701\n",
      "INFO:tensorflow:loss = 3.99608e+11, step = 501 (0.245 sec)\n",
      "INFO:tensorflow:global_step/sec: 439.543\n",
      "INFO:tensorflow:loss = 6.52303e+11, step = 601 (0.231 sec)\n",
      "INFO:tensorflow:global_step/sec: 418.065\n",
      "INFO:tensorflow:loss = 3.10814e+11, step = 701 (0.237 sec)\n",
      "INFO:tensorflow:global_step/sec: 463.031\n",
      "INFO:tensorflow:loss = 2.48224e+11, step = 801 (0.219 sec)\n",
      "INFO:tensorflow:global_step/sec: 459.764\n",
      "INFO:tensorflow:loss = 2.7405e+11, step = 901 (0.216 sec)\n",
      "INFO:tensorflow:global_step/sec: 632.558\n",
      "INFO:tensorflow:loss = 9.15921e+10, step = 1001 (0.154 sec)\n",
      "INFO:tensorflow:global_step/sec: 632.284\n",
      "INFO:tensorflow:loss = 1.42728e+11, step = 1101 (0.158 sec)\n",
      "INFO:tensorflow:global_step/sec: 402.51\n",
      "INFO:tensorflow:loss = 3.21958e+11, step = 1201 (0.257 sec)\n",
      "INFO:tensorflow:global_step/sec: 496.521\n",
      "INFO:tensorflow:loss = 2.41831e+11, step = 1301 (0.208 sec)\n",
      "INFO:tensorflow:global_step/sec: 565.944\n",
      "INFO:tensorflow:loss = 2.05862e+11, step = 1401 (0.161 sec)\n",
      "INFO:tensorflow:global_step/sec: 484.655\n",
      "INFO:tensorflow:loss = 2.97894e+11, step = 1501 (0.210 sec)\n",
      "INFO:tensorflow:global_step/sec: 384.969\n",
      "INFO:tensorflow:loss = 2.38499e+11, step = 1601 (0.262 sec)\n",
      "INFO:tensorflow:global_step/sec: 666.713\n",
      "INFO:tensorflow:loss = 5.30438e+10, step = 1701 (0.144 sec)\n",
      "INFO:tensorflow:global_step/sec: 649.381\n",
      "INFO:tensorflow:loss = 1.07325e+11, step = 1801 (0.170 sec)\n",
      "INFO:tensorflow:global_step/sec: 608.849\n",
      "INFO:tensorflow:loss = 1.10262e+11, step = 1901 (0.149 sec)\n",
      "INFO:tensorflow:global_step/sec: 406.441\n",
      "INFO:tensorflow:loss = 2.33047e+10, step = 2001 (0.257 sec)\n",
      "INFO:tensorflow:global_step/sec: 458.364\n",
      "INFO:tensorflow:loss = 9.09495e+10, step = 2101 (0.211 sec)\n",
      "INFO:tensorflow:global_step/sec: 526.375\n",
      "INFO:tensorflow:loss = 8.23365e+10, step = 2201 (0.193 sec)\n",
      "INFO:tensorflow:global_step/sec: 424.345\n",
      "INFO:tensorflow:loss = 7.45481e+10, step = 2301 (0.229 sec)\n",
      "INFO:tensorflow:global_step/sec: 513.119\n",
      "INFO:tensorflow:loss = 1.11649e+11, step = 2401 (0.195 sec)\n",
      "INFO:tensorflow:global_step/sec: 366.437\n",
      "INFO:tensorflow:loss = 1.08728e+11, step = 2501 (0.284 sec)\n",
      "INFO:tensorflow:global_step/sec: 410.888\n",
      "INFO:tensorflow:loss = 1.60347e+11, step = 2601 (0.232 sec)\n",
      "INFO:tensorflow:global_step/sec: 454.821\n",
      "INFO:tensorflow:loss = 1.29766e+11, step = 2701 (0.228 sec)\n",
      "INFO:tensorflow:global_step/sec: 464.753\n",
      "INFO:tensorflow:loss = 1.17695e+11, step = 2801 (0.223 sec)\n",
      "INFO:tensorflow:global_step/sec: 507.839\n",
      "INFO:tensorflow:loss = 1.24669e+11, step = 2901 (0.191 sec)\n",
      "INFO:tensorflow:global_step/sec: 372.197\n",
      "INFO:tensorflow:loss = 6.17437e+10, step = 3001 (0.269 sec)\n",
      "INFO:tensorflow:global_step/sec: 510.772\n",
      "INFO:tensorflow:loss = 5.48015e+10, step = 3101 (0.210 sec)\n",
      "INFO:tensorflow:global_step/sec: 355.129\n",
      "INFO:tensorflow:loss = 1.19694e+11, step = 3201 (0.264 sec)\n",
      "INFO:tensorflow:global_step/sec: 528.823\n",
      "INFO:tensorflow:loss = 8.03499e+10, step = 3301 (0.198 sec)\n",
      "INFO:tensorflow:global_step/sec: 378.281\n",
      "INFO:tensorflow:loss = 4.01368e+10, step = 3401 (0.253 sec)\n",
      "INFO:tensorflow:global_step/sec: 452.907\n",
      "INFO:tensorflow:loss = 6.55013e+10, step = 3501 (0.217 sec)\n",
      "INFO:tensorflow:global_step/sec: 463.262\n",
      "INFO:tensorflow:loss = 1.63059e+11, step = 3601 (0.224 sec)\n",
      "INFO:tensorflow:global_step/sec: 479.263\n",
      "INFO:tensorflow:loss = 5.90547e+10, step = 3701 (0.213 sec)\n",
      "INFO:tensorflow:global_step/sec: 523.633\n",
      "INFO:tensorflow:loss = 1.01748e+11, step = 3801 (0.178 sec)\n",
      "INFO:tensorflow:global_step/sec: 516.282\n",
      "INFO:tensorflow:loss = 4.00881e+10, step = 3901 (0.200 sec)\n",
      "INFO:tensorflow:global_step/sec: 348.684\n",
      "INFO:tensorflow:loss = 3.6432e+10, step = 4001 (0.291 sec)\n",
      "INFO:tensorflow:global_step/sec: 434.619\n",
      "INFO:tensorflow:loss = 1.39918e+11, step = 4101 (0.230 sec)\n",
      "INFO:tensorflow:global_step/sec: 471.134\n",
      "INFO:tensorflow:loss = 4.76391e+10, step = 4201 (0.215 sec)\n",
      "INFO:tensorflow:global_step/sec: 473.239\n",
      "INFO:tensorflow:loss = 1.2051e+11, step = 4301 (0.198 sec)\n",
      "INFO:tensorflow:global_step/sec: 395.545\n",
      "INFO:tensorflow:loss = 2.22969e+11, step = 4401 (0.267 sec)\n",
      "INFO:tensorflow:global_step/sec: 397.779\n",
      "INFO:tensorflow:loss = 7.28016e+10, step = 4501 (0.237 sec)\n",
      "INFO:tensorflow:global_step/sec: 516.148\n",
      "INFO:tensorflow:loss = 1.5819e+11, step = 4601 (0.209 sec)\n",
      "INFO:tensorflow:global_step/sec: 499.097\n",
      "INFO:tensorflow:loss = 1.93582e+11, step = 4701 (0.185 sec)\n",
      "INFO:tensorflow:global_step/sec: 496.12\n",
      "INFO:tensorflow:loss = 5.63392e+10, step = 4801 (0.212 sec)\n",
      "INFO:tensorflow:global_step/sec: 464.942\n",
      "INFO:tensorflow:loss = 7.07355e+10, step = 4901 (0.204 sec)\n",
      "INFO:tensorflow:global_step/sec: 594.589\n",
      "INFO:tensorflow:loss = 5.80193e+10, step = 5001 (0.184 sec)\n",
      "INFO:tensorflow:global_step/sec: 542.568\n",
      "INFO:tensorflow:loss = 9.43143e+10, step = 5101 (0.169 sec)\n",
      "INFO:tensorflow:global_step/sec: 541.91\n",
      "INFO:tensorflow:loss = 1.39598e+11, step = 5201 (0.200 sec)\n",
      "INFO:tensorflow:global_step/sec: 470.315\n",
      "INFO:tensorflow:loss = 7.06134e+10, step = 5301 (0.197 sec)\n",
      "INFO:tensorflow:global_step/sec: 491.045\n",
      "INFO:tensorflow:loss = 1.11655e+11, step = 5401 (0.204 sec)\n",
      "INFO:tensorflow:global_step/sec: 541.901\n",
      "INFO:tensorflow:loss = 1.97323e+11, step = 5501 (0.185 sec)\n",
      "INFO:tensorflow:global_step/sec: 541.739\n",
      "INFO:tensorflow:loss = 7.02683e+10, step = 5601 (0.185 sec)\n",
      "INFO:tensorflow:global_step/sec: 562.103\n",
      "INFO:tensorflow:loss = 4.59758e+10, step = 5701 (0.178 sec)\n",
      "INFO:tensorflow:global_step/sec: 542.546\n",
      "INFO:tensorflow:loss = 4.66596e+10, step = 5801 (0.184 sec)\n",
      "INFO:tensorflow:global_step/sec: 515.452\n",
      "INFO:tensorflow:loss = 2.58894e+11, step = 5901 (0.203 sec)\n",
      "INFO:tensorflow:global_step/sec: 412.197\n",
      "INFO:tensorflow:loss = 7.10164e+10, step = 6001 (0.240 sec)\n",
      "INFO:tensorflow:global_step/sec: 436.639\n",
      "INFO:tensorflow:loss = 8.46078e+10, step = 6101 (0.231 sec)\n",
      "INFO:tensorflow:global_step/sec: 484.532\n",
      "INFO:tensorflow:loss = 1.82358e+11, step = 6201 (0.198 sec)\n",
      "INFO:tensorflow:global_step/sec: 467.159\n",
      "INFO:tensorflow:loss = 9.14875e+10, step = 6301 (0.214 sec)\n",
      "INFO:tensorflow:global_step/sec: 420.033\n",
      "INFO:tensorflow:loss = 1.56007e+11, step = 6401 (0.244 sec)\n",
      "INFO:tensorflow:global_step/sec: 607.128\n",
      "INFO:tensorflow:loss = 6.10839e+10, step = 6501 (0.175 sec)\n",
      "INFO:tensorflow:global_step/sec: 529.144\n",
      "INFO:tensorflow:loss = 1.1231e+11, step = 6601 (0.174 sec)\n",
      "INFO:tensorflow:global_step/sec: 603.804\n",
      "INFO:tensorflow:loss = 6.77315e+10, step = 6701 (0.165 sec)\n",
      "INFO:tensorflow:global_step/sec: 395.203\n",
      "INFO:tensorflow:loss = 8.76897e+10, step = 6801 (0.257 sec)\n",
      "INFO:tensorflow:global_step/sec: 389.677\n",
      "INFO:tensorflow:loss = 1.0773e+11, step = 6901 (0.258 sec)\n",
      "INFO:tensorflow:global_step/sec: 461.888\n",
      "INFO:tensorflow:loss = 1.2171e+11, step = 7001 (0.218 sec)\n",
      "INFO:tensorflow:global_step/sec: 514.929\n",
      "INFO:tensorflow:loss = 9.51644e+10, step = 7101 (0.196 sec)\n",
      "INFO:tensorflow:global_step/sec: 530.596\n",
      "INFO:tensorflow:loss = 1.22578e+11, step = 7201 (0.187 sec)\n",
      "INFO:tensorflow:global_step/sec: 536.793\n",
      "INFO:tensorflow:loss = 7.58749e+10, step = 7301 (0.180 sec)\n",
      "INFO:tensorflow:global_step/sec: 528.286\n",
      "INFO:tensorflow:loss = 1.28858e+11, step = 7401 (0.197 sec)\n",
      "INFO:tensorflow:global_step/sec: 499.262\n",
      "INFO:tensorflow:loss = 1.34839e+11, step = 7501 (0.204 sec)\n",
      "INFO:tensorflow:global_step/sec: 576.506\n",
      "INFO:tensorflow:loss = 1.28004e+11, step = 7601 (0.162 sec)\n",
      "INFO:tensorflow:global_step/sec: 592.643\n",
      "INFO:tensorflow:loss = 1.0373e+11, step = 7701 (0.184 sec)\n",
      "INFO:tensorflow:global_step/sec: 438.307\n",
      "INFO:tensorflow:loss = 2.53021e+11, step = 7801 (0.220 sec)\n",
      "INFO:tensorflow:global_step/sec: 616.11\n",
      "INFO:tensorflow:loss = 4.10335e+10, step = 7901 (0.171 sec)\n",
      "INFO:tensorflow:global_step/sec: 548.339\n"
     ]
    },
    {
     "name": "stdout",
     "output_type": "stream",
     "text": [
      "INFO:tensorflow:loss = 5.41482e+10, step = 8001 (0.170 sec)\n",
      "INFO:tensorflow:global_step/sec: 607.618\n",
      "INFO:tensorflow:loss = 4.79382e+10, step = 8101 (0.162 sec)\n",
      "INFO:tensorflow:global_step/sec: 615.31\n",
      "INFO:tensorflow:loss = 9.70909e+10, step = 8201 (0.178 sec)\n",
      "INFO:tensorflow:global_step/sec: 499.985\n",
      "INFO:tensorflow:loss = 6.45027e+10, step = 8301 (0.184 sec)\n",
      "INFO:tensorflow:global_step/sec: 593.672\n",
      "INFO:tensorflow:loss = 9.80951e+10, step = 8401 (0.185 sec)\n",
      "INFO:tensorflow:global_step/sec: 555.58\n",
      "INFO:tensorflow:loss = 1.30601e+11, step = 8501 (0.171 sec)\n",
      "INFO:tensorflow:global_step/sec: 499.02\n",
      "INFO:tensorflow:loss = 1.46893e+11, step = 8601 (0.204 sec)\n",
      "INFO:tensorflow:global_step/sec: 502.201\n",
      "INFO:tensorflow:loss = 7.23083e+10, step = 8701 (0.197 sec)\n",
      "INFO:tensorflow:global_step/sec: 472.321\n",
      "INFO:tensorflow:loss = 9.42508e+10, step = 8801 (0.213 sec)\n",
      "INFO:tensorflow:global_step/sec: 546.964\n",
      "INFO:tensorflow:loss = 1.02528e+11, step = 8901 (0.173 sec)\n",
      "INFO:tensorflow:global_step/sec: 508.544\n",
      "INFO:tensorflow:loss = 7.42754e+10, step = 9001 (0.207 sec)\n",
      "INFO:tensorflow:global_step/sec: 506.879\n",
      "INFO:tensorflow:loss = 1.00002e+11, step = 9101 (0.187 sec)\n",
      "INFO:tensorflow:global_step/sec: 545.037\n",
      "INFO:tensorflow:loss = 3.82233e+10, step = 9201 (0.190 sec)\n",
      "INFO:tensorflow:global_step/sec: 605.964\n",
      "INFO:tensorflow:loss = 1.56238e+11, step = 9301 (0.174 sec)\n",
      "INFO:tensorflow:global_step/sec: 556.033\n",
      "INFO:tensorflow:loss = 2.29181e+11, step = 9401 (0.172 sec)\n",
      "INFO:tensorflow:global_step/sec: 540.814\n",
      "INFO:tensorflow:loss = 4.4988e+10, step = 9501 (0.182 sec)\n",
      "INFO:tensorflow:global_step/sec: 522.859\n",
      "INFO:tensorflow:loss = 1.42467e+11, step = 9601 (0.191 sec)\n",
      "INFO:tensorflow:global_step/sec: 571.262\n",
      "INFO:tensorflow:loss = 5.36311e+10, step = 9701 (0.170 sec)\n",
      "INFO:tensorflow:global_step/sec: 604.867\n",
      "INFO:tensorflow:loss = 1.37237e+11, step = 9801 (0.171 sec)\n",
      "INFO:tensorflow:global_step/sec: 556.644\n",
      "INFO:tensorflow:loss = 5.9933e+10, step = 9901 (0.180 sec)\n",
      "INFO:tensorflow:global_step/sec: 486.243\n",
      "INFO:tensorflow:loss = 9.43264e+10, step = 10001 (0.207 sec)\n",
      "INFO:tensorflow:global_step/sec: 579.947\n",
      "INFO:tensorflow:loss = 6.22721e+10, step = 10101 (0.164 sec)\n",
      "INFO:tensorflow:global_step/sec: 545.535\n",
      "INFO:tensorflow:loss = 8.40509e+10, step = 10201 (0.199 sec)\n",
      "INFO:tensorflow:global_step/sec: 559.289\n",
      "INFO:tensorflow:loss = 1.3324e+11, step = 10301 (0.163 sec)\n",
      "INFO:tensorflow:global_step/sec: 510.078\n",
      "INFO:tensorflow:loss = 9.96976e+10, step = 10401 (0.200 sec)\n",
      "INFO:tensorflow:global_step/sec: 578.132\n",
      "INFO:tensorflow:loss = 3.41303e+10, step = 10501 (0.169 sec)\n",
      "INFO:tensorflow:global_step/sec: 533.071\n",
      "INFO:tensorflow:loss = 2.03321e+11, step = 10601 (0.195 sec)\n",
      "INFO:tensorflow:global_step/sec: 561.723\n",
      "INFO:tensorflow:loss = 8.2905e+10, step = 10701 (0.182 sec)\n",
      "INFO:tensorflow:global_step/sec: 602.133\n",
      "INFO:tensorflow:loss = 8.76323e+10, step = 10801 (0.171 sec)\n",
      "INFO:tensorflow:global_step/sec: 512.633\n",
      "INFO:tensorflow:loss = 7.00534e+10, step = 10901 (0.182 sec)\n",
      "INFO:tensorflow:global_step/sec: 575.858\n",
      "INFO:tensorflow:loss = 1.12853e+11, step = 11001 (0.187 sec)\n",
      "INFO:tensorflow:global_step/sec: 588.967\n",
      "INFO:tensorflow:loss = 1.2695e+11, step = 11101 (0.171 sec)\n",
      "INFO:tensorflow:global_step/sec: 569.471\n",
      "INFO:tensorflow:loss = 4.64948e+10, step = 11201 (0.174 sec)\n",
      "INFO:tensorflow:global_step/sec: 410.615\n",
      "INFO:tensorflow:loss = 1.28994e+11, step = 11301 (0.236 sec)\n",
      "INFO:tensorflow:global_step/sec: 474.623\n",
      "INFO:tensorflow:loss = 5.06394e+10, step = 11401 (0.205 sec)\n",
      "INFO:tensorflow:global_step/sec: 438.261\n",
      "INFO:tensorflow:loss = 1.70762e+11, step = 11501 (0.234 sec)\n",
      "INFO:tensorflow:global_step/sec: 454.345\n",
      "INFO:tensorflow:loss = 1.37512e+11, step = 11601 (0.212 sec)\n",
      "INFO:tensorflow:global_step/sec: 467.638\n",
      "INFO:tensorflow:loss = 5.22098e+10, step = 11701 (0.226 sec)\n",
      "INFO:tensorflow:global_step/sec: 495.979\n",
      "INFO:tensorflow:loss = 1.09901e+11, step = 11801 (0.190 sec)\n",
      "INFO:tensorflow:global_step/sec: 540.748\n",
      "INFO:tensorflow:loss = 4.9729e+10, step = 11901 (0.201 sec)\n",
      "INFO:tensorflow:global_step/sec: 511.695\n",
      "INFO:tensorflow:loss = 5.41219e+10, step = 12001 (0.186 sec)\n",
      "INFO:tensorflow:global_step/sec: 527.789\n",
      "INFO:tensorflow:loss = 8.08974e+10, step = 12101 (0.183 sec)\n",
      "INFO:tensorflow:global_step/sec: 592.507\n",
      "INFO:tensorflow:loss = 1.43155e+11, step = 12201 (0.169 sec)\n",
      "INFO:tensorflow:global_step/sec: 613.14\n",
      "INFO:tensorflow:loss = 1.09134e+11, step = 12301 (0.183 sec)\n",
      "INFO:tensorflow:global_step/sec: 529.427\n",
      "INFO:tensorflow:loss = 1.56092e+11, step = 12401 (0.185 sec)\n",
      "INFO:tensorflow:global_step/sec: 466.832\n",
      "INFO:tensorflow:loss = 1.26114e+11, step = 12501 (0.201 sec)\n",
      "INFO:tensorflow:global_step/sec: 532.369\n",
      "INFO:tensorflow:loss = 1.32329e+11, step = 12601 (0.192 sec)\n",
      "INFO:tensorflow:global_step/sec: 613.266\n",
      "INFO:tensorflow:loss = 1.4604e+11, step = 12701 (0.172 sec)\n",
      "INFO:tensorflow:global_step/sec: 499.017\n",
      "INFO:tensorflow:loss = 2.45997e+11, step = 12801 (0.185 sec)\n",
      "INFO:tensorflow:global_step/sec: 542.783\n",
      "INFO:tensorflow:loss = 1.48607e+11, step = 12901 (0.184 sec)\n",
      "INFO:tensorflow:global_step/sec: 615.476\n",
      "INFO:tensorflow:loss = 8.68562e+10, step = 13001 (0.162 sec)\n",
      "INFO:tensorflow:global_step/sec: 537.849\n",
      "INFO:tensorflow:loss = 1.2777e+11, step = 13101 (0.186 sec)\n",
      "INFO:tensorflow:global_step/sec: 544.624\n",
      "INFO:tensorflow:loss = 1.18969e+11, step = 13201 (0.199 sec)\n",
      "INFO:tensorflow:global_step/sec: 542.423\n",
      "INFO:tensorflow:loss = 2.38543e+11, step = 13301 (0.184 sec)\n",
      "INFO:tensorflow:global_step/sec: 482.427\n",
      "INFO:tensorflow:loss = 7.46473e+10, step = 13401 (0.199 sec)\n",
      "INFO:tensorflow:global_step/sec: 499.282\n",
      "INFO:tensorflow:loss = 1.43698e+11, step = 13501 (0.199 sec)\n",
      "INFO:tensorflow:global_step/sec: 477.905\n",
      "INFO:tensorflow:loss = 6.88207e+10, step = 13601 (0.213 sec)\n",
      "INFO:tensorflow:global_step/sec: 525.775\n",
      "INFO:tensorflow:loss = 1.6646e+11, step = 13701 (0.187 sec)\n",
      "INFO:tensorflow:global_step/sec: 512.402\n",
      "INFO:tensorflow:loss = 1.80367e+11, step = 13801 (0.195 sec)\n",
      "INFO:tensorflow:global_step/sec: 544.863\n",
      "INFO:tensorflow:loss = 1.64523e+11, step = 13901 (0.177 sec)\n",
      "INFO:tensorflow:global_step/sec: 531.311\n",
      "INFO:tensorflow:loss = 1.36713e+11, step = 14001 (0.194 sec)\n",
      "INFO:tensorflow:global_step/sec: 568.924\n",
      "INFO:tensorflow:loss = 1.02386e+11, step = 14101 (0.186 sec)\n",
      "INFO:tensorflow:global_step/sec: 599.329\n",
      "INFO:tensorflow:loss = 6.81301e+10, step = 14201 (0.167 sec)\n",
      "INFO:tensorflow:global_step/sec: 510.656\n",
      "INFO:tensorflow:loss = 8.28316e+10, step = 14301 (0.186 sec)\n",
      "INFO:tensorflow:global_step/sec: 577.19\n",
      "INFO:tensorflow:loss = 8.11519e+10, step = 14401 (0.183 sec)\n",
      "INFO:tensorflow:global_step/sec: 497.708\n",
      "INFO:tensorflow:loss = 6.54901e+10, step = 14501 (0.197 sec)\n",
      "INFO:tensorflow:global_step/sec: 501.865\n",
      "INFO:tensorflow:loss = 1.52085e+11, step = 14601 (0.195 sec)\n",
      "INFO:tensorflow:global_step/sec: 537.771\n",
      "INFO:tensorflow:loss = 1.49419e+11, step = 14701 (0.184 sec)\n",
      "INFO:tensorflow:global_step/sec: 548.599\n",
      "INFO:tensorflow:loss = 4.93376e+10, step = 14801 (0.182 sec)\n",
      "INFO:tensorflow:global_step/sec: 558.651\n",
      "INFO:tensorflow:loss = 1.63146e+11, step = 14901 (0.173 sec)\n",
      "INFO:tensorflow:global_step/sec: 542.919\n",
      "INFO:tensorflow:loss = 1.35062e+11, step = 15001 (0.184 sec)\n",
      "INFO:tensorflow:global_step/sec: 537.211\n",
      "INFO:tensorflow:loss = 1.27477e+11, step = 15101 (0.186 sec)\n",
      "INFO:tensorflow:global_step/sec: 563.22\n",
      "INFO:tensorflow:loss = 4.40567e+10, step = 15201 (0.182 sec)\n",
      "INFO:tensorflow:global_step/sec: 533.163\n",
      "INFO:tensorflow:loss = 9.35044e+10, step = 15301 (0.183 sec)\n",
      "INFO:tensorflow:global_step/sec: 604.192\n",
      "INFO:tensorflow:loss = 1.40798e+11, step = 15401 (0.166 sec)\n",
      "INFO:tensorflow:global_step/sec: 588.597\n",
      "INFO:tensorflow:loss = 1.37539e+11, step = 15501 (0.186 sec)\n",
      "INFO:tensorflow:global_step/sec: 500.964\n",
      "INFO:tensorflow:loss = 1.34442e+11, step = 15601 (0.194 sec)\n",
      "INFO:tensorflow:global_step/sec: 488.606\n",
      "INFO:tensorflow:loss = 1.54967e+11, step = 15701 (0.201 sec)\n",
      "INFO:tensorflow:global_step/sec: 485.641\n",
      "INFO:tensorflow:loss = 3.13215e+10, step = 15801 (0.212 sec)\n",
      "INFO:tensorflow:global_step/sec: 488.417\n",
      "INFO:tensorflow:loss = 9.55272e+10, step = 15901 (0.208 sec)\n",
      "INFO:tensorflow:global_step/sec: 525.899\n",
      "INFO:tensorflow:loss = 9.545e+10, step = 16001 (0.183 sec)\n",
      "INFO:tensorflow:global_step/sec: 558.847\n"
     ]
    },
    {
     "name": "stdout",
     "output_type": "stream",
     "text": [
      "INFO:tensorflow:loss = 1.17558e+11, step = 16101 (0.193 sec)\n",
      "INFO:tensorflow:global_step/sec: 510.226\n",
      "INFO:tensorflow:loss = 4.15956e+10, step = 16201 (0.179 sec)\n",
      "INFO:tensorflow:global_step/sec: 535.229\n",
      "INFO:tensorflow:loss = 1.16479e+11, step = 16301 (0.186 sec)\n",
      "INFO:tensorflow:global_step/sec: 606.595\n",
      "INFO:tensorflow:loss = 6.4953e+10, step = 16401 (0.161 sec)\n",
      "INFO:tensorflow:global_step/sec: 539.239\n",
      "INFO:tensorflow:loss = 4.57302e+10, step = 16501 (0.201 sec)\n",
      "INFO:tensorflow:global_step/sec: 526.708\n",
      "INFO:tensorflow:loss = 8.93906e+10, step = 16601 (0.180 sec)\n",
      "INFO:tensorflow:global_step/sec: 562.723\n",
      "INFO:tensorflow:loss = 7.14197e+10, step = 16701 (0.172 sec)\n",
      "INFO:tensorflow:global_step/sec: 556.684\n",
      "INFO:tensorflow:loss = 1.42365e+11, step = 16801 (0.180 sec)\n",
      "INFO:tensorflow:global_step/sec: 539.884\n",
      "INFO:tensorflow:loss = 1.07903e+11, step = 16901 (0.185 sec)\n",
      "INFO:tensorflow:global_step/sec: 526.919\n",
      "INFO:tensorflow:loss = 1.0743e+11, step = 17001 (0.210 sec)\n",
      "INFO:tensorflow:global_step/sec: 474.581\n",
      "INFO:tensorflow:loss = 1.20238e+11, step = 17101 (0.199 sec)\n",
      "INFO:tensorflow:global_step/sec: 514.85\n",
      "INFO:tensorflow:loss = 4.99213e+10, step = 17201 (0.197 sec)\n",
      "INFO:tensorflow:global_step/sec: 533.421\n",
      "INFO:tensorflow:loss = 1.01356e+11, step = 17301 (0.176 sec)\n",
      "INFO:tensorflow:global_step/sec: 543.69\n",
      "INFO:tensorflow:loss = 1.90207e+11, step = 17401 (0.187 sec)\n",
      "INFO:tensorflow:global_step/sec: 539.425\n",
      "INFO:tensorflow:loss = 1.03673e+11, step = 17501 (0.182 sec)\n",
      "INFO:tensorflow:global_step/sec: 540.974\n",
      "INFO:tensorflow:loss = 1.60298e+11, step = 17601 (0.200 sec)\n",
      "INFO:tensorflow:global_step/sec: 513.129\n",
      "INFO:tensorflow:loss = 6.62876e+10, step = 17701 (0.185 sec)\n",
      "INFO:tensorflow:global_step/sec: 562.752\n",
      "INFO:tensorflow:loss = 6.54314e+10, step = 17801 (0.180 sec)\n",
      "INFO:tensorflow:global_step/sec: 572.081\n",
      "INFO:tensorflow:loss = 1.31856e+11, step = 17901 (0.167 sec)\n",
      "INFO:tensorflow:global_step/sec: 543.977\n",
      "INFO:tensorflow:loss = 4.97107e+10, step = 18001 (0.184 sec)\n",
      "INFO:tensorflow:global_step/sec: 593.154\n",
      "INFO:tensorflow:loss = 8.44569e+10, step = 18101 (0.185 sec)\n",
      "INFO:tensorflow:global_step/sec: 559.343\n",
      "INFO:tensorflow:loss = 4.92563e+10, step = 18201 (0.163 sec)\n",
      "INFO:tensorflow:global_step/sec: 592.393\n",
      "INFO:tensorflow:loss = 6.47663e+10, step = 18301 (0.184 sec)\n",
      "INFO:tensorflow:global_step/sec: 486.705\n",
      "INFO:tensorflow:loss = 9.66648e+10, step = 18401 (0.198 sec)\n",
      "INFO:tensorflow:global_step/sec: 612.42\n",
      "INFO:tensorflow:loss = 3.98252e+10, step = 18501 (0.176 sec)\n",
      "INFO:tensorflow:global_step/sec: 543.429\n",
      "INFO:tensorflow:loss = 1.37216e+11, step = 18601 (0.163 sec)\n",
      "INFO:tensorflow:global_step/sec: 560.099\n",
      "INFO:tensorflow:loss = 5.96308e+10, step = 18701 (0.179 sec)\n",
      "INFO:tensorflow:global_step/sec: 542.491\n",
      "INFO:tensorflow:loss = 1.0693e+11, step = 18801 (0.184 sec)\n",
      "INFO:tensorflow:global_step/sec: 593.095\n",
      "INFO:tensorflow:loss = 7.01431e+10, step = 18901 (0.169 sec)\n",
      "INFO:tensorflow:global_step/sec: 491.027\n",
      "INFO:tensorflow:loss = 1.57652e+11, step = 19001 (0.210 sec)\n",
      "INFO:tensorflow:global_step/sec: 411.205\n",
      "INFO:tensorflow:loss = 2.58967e+10, step = 19101 (0.243 sec)\n",
      "INFO:tensorflow:global_step/sec: 398.232\n",
      "INFO:tensorflow:loss = 7.373e+10, step = 19201 (0.253 sec)\n",
      "INFO:tensorflow:global_step/sec: 456.418\n",
      "INFO:tensorflow:loss = 8.3865e+10, step = 19301 (0.227 sec)\n",
      "INFO:tensorflow:global_step/sec: 545.905\n",
      "INFO:tensorflow:loss = 1.29736e+11, step = 19401 (0.168 sec)\n",
      "INFO:tensorflow:global_step/sec: 535.492\n",
      "INFO:tensorflow:loss = 6.14396e+10, step = 19501 (0.187 sec)\n",
      "INFO:tensorflow:global_step/sec: 568.719\n",
      "INFO:tensorflow:loss = 3.79184e+10, step = 19601 (0.182 sec)\n",
      "INFO:tensorflow:global_step/sec: 593.564\n",
      "INFO:tensorflow:loss = 9.12402e+10, step = 19701 (0.162 sec)\n",
      "INFO:tensorflow:global_step/sec: 537.829\n",
      "INFO:tensorflow:loss = 9.93769e+10, step = 19801 (0.187 sec)\n",
      "INFO:tensorflow:global_step/sec: 515.037\n",
      "INFO:tensorflow:loss = 1.50235e+11, step = 19901 (0.199 sec)\n",
      "INFO:tensorflow:global_step/sec: 509.824\n",
      "INFO:tensorflow:loss = 5.78107e+10, step = 20001 (0.197 sec)\n",
      "INFO:tensorflow:global_step/sec: 557.125\n",
      "INFO:tensorflow:loss = 5.4521e+10, step = 20101 (0.185 sec)\n",
      "INFO:tensorflow:global_step/sec: 547.166\n",
      "INFO:tensorflow:loss = 1.12516e+11, step = 20201 (0.186 sec)\n",
      "INFO:tensorflow:global_step/sec: 503.646\n",
      "INFO:tensorflow:loss = 1.5592e+11, step = 20301 (0.185 sec)\n",
      "INFO:tensorflow:global_step/sec: 606.893\n",
      "INFO:tensorflow:loss = 2.80357e+11, step = 20401 (0.163 sec)\n",
      "INFO:tensorflow:global_step/sec: 528.816\n",
      "INFO:tensorflow:loss = 1.56005e+11, step = 20501 (0.192 sec)\n",
      "INFO:tensorflow:global_step/sec: 609.08\n",
      "INFO:tensorflow:loss = 2.51738e+11, step = 20601 (0.177 sec)\n",
      "INFO:tensorflow:global_step/sec: 498.671\n",
      "INFO:tensorflow:loss = 1.11355e+11, step = 20701 (0.185 sec)\n",
      "INFO:tensorflow:global_step/sec: 546.763\n",
      "INFO:tensorflow:loss = 6.45628e+10, step = 20801 (0.184 sec)\n",
      "INFO:tensorflow:global_step/sec: 588.484\n",
      "INFO:tensorflow:loss = 6.44558e+10, step = 20901 (0.177 sec)\n",
      "INFO:tensorflow:global_step/sec: 470.898\n",
      "INFO:tensorflow:loss = 5.52859e+10, step = 21001 (0.213 sec)\n",
      "INFO:tensorflow:global_step/sec: 512.93\n",
      "INFO:tensorflow:loss = 6.46286e+10, step = 21101 (0.195 sec)\n",
      "INFO:tensorflow:global_step/sec: 534.639\n",
      "INFO:tensorflow:loss = 1.13996e+11, step = 21201 (0.194 sec)\n",
      "INFO:tensorflow:global_step/sec: 542.906\n",
      "INFO:tensorflow:loss = 1.26021e+11, step = 21301 (0.176 sec)\n",
      "INFO:tensorflow:global_step/sec: 537.829\n",
      "INFO:tensorflow:loss = 1.18658e+11, step = 21401 (0.179 sec)\n",
      "INFO:tensorflow:global_step/sec: 540.927\n",
      "INFO:tensorflow:loss = 6.78554e+10, step = 21501 (0.185 sec)\n",
      "INFO:tensorflow:global_step/sec: 615.198\n",
      "INFO:tensorflow:loss = 7.03697e+10, step = 21601 (0.183 sec)\n",
      "INFO:tensorflow:global_step/sec: 541.94\n",
      "INFO:tensorflow:loss = 9.82786e+10, step = 21701 (0.164 sec)\n",
      "INFO:tensorflow:global_step/sec: 551.493\n",
      "INFO:tensorflow:loss = 3.56994e+10, step = 21801 (0.181 sec)\n",
      "INFO:tensorflow:global_step/sec: 523.774\n",
      "INFO:tensorflow:loss = 6.6704e+10, step = 21901 (0.195 sec)\n",
      "INFO:tensorflow:global_step/sec: 570.285\n",
      "INFO:tensorflow:loss = 3.70816e+10, step = 22001 (0.176 sec)\n",
      "INFO:tensorflow:global_step/sec: 649.094\n",
      "INFO:tensorflow:loss = 1.32895e+11, step = 22101 (0.165 sec)\n",
      "INFO:tensorflow:global_step/sec: 458.948\n",
      "INFO:tensorflow:loss = 6.71971e+10, step = 22201 (0.209 sec)\n",
      "INFO:tensorflow:global_step/sec: 518.349\n",
      "INFO:tensorflow:loss = 7.32939e+10, step = 22301 (0.191 sec)\n",
      "INFO:tensorflow:global_step/sec: 562.575\n",
      "INFO:tensorflow:loss = 5.46775e+10, step = 22401 (0.181 sec)\n",
      "INFO:tensorflow:global_step/sec: 471.733\n",
      "INFO:tensorflow:loss = 8.02554e+10, step = 22501 (0.209 sec)\n",
      "INFO:tensorflow:global_step/sec: 544.02\n",
      "INFO:tensorflow:loss = 3.71202e+10, step = 22601 (0.182 sec)\n",
      "INFO:tensorflow:global_step/sec: 595.272\n",
      "INFO:tensorflow:loss = 6.90759e+10, step = 22701 (0.165 sec)\n",
      "INFO:tensorflow:global_step/sec: 526.408\n",
      "INFO:tensorflow:loss = 1.67534e+11, step = 22801 (0.197 sec)\n",
      "INFO:tensorflow:global_step/sec: 555.412\n",
      "INFO:tensorflow:loss = 1.16933e+11, step = 22901 (0.178 sec)\n",
      "INFO:tensorflow:global_step/sec: 566.156\n",
      "INFO:tensorflow:loss = 1.23332e+11, step = 23001 (0.172 sec)\n",
      "INFO:tensorflow:global_step/sec: 545.485\n",
      "INFO:tensorflow:loss = 7.0162e+10, step = 23101 (0.183 sec)\n",
      "INFO:tensorflow:global_step/sec: 585.552\n",
      "INFO:tensorflow:loss = 3.17572e+10, step = 23201 (0.171 sec)\n",
      "INFO:tensorflow:global_step/sec: 551.082\n",
      "INFO:tensorflow:loss = 7.75251e+10, step = 23301 (0.184 sec)\n",
      "INFO:tensorflow:global_step/sec: 538.192\n",
      "INFO:tensorflow:loss = 1.77479e+11, step = 23401 (0.192 sec)\n",
      "INFO:tensorflow:global_step/sec: 511.114\n",
      "INFO:tensorflow:loss = 6.92627e+10, step = 23501 (0.187 sec)\n",
      "INFO:tensorflow:global_step/sec: 426.833\n",
      "INFO:tensorflow:loss = 8.42538e+10, step = 23601 (0.241 sec)\n",
      "INFO:tensorflow:global_step/sec: 379.935\n",
      "INFO:tensorflow:loss = 1.45861e+11, step = 23701 (0.264 sec)\n",
      "INFO:tensorflow:global_step/sec: 504.422\n",
      "INFO:tensorflow:loss = 1.04395e+11, step = 23801 (0.198 sec)\n",
      "INFO:tensorflow:global_step/sec: 474.452\n",
      "INFO:tensorflow:loss = 2.075e+10, step = 23901 (0.211 sec)\n",
      "INFO:tensorflow:global_step/sec: 573.882\n",
      "INFO:tensorflow:loss = 7.56612e+10, step = 24001 (0.172 sec)\n",
      "INFO:tensorflow:global_step/sec: 472.434\n",
      "INFO:tensorflow:loss = 9.29636e+10, step = 24101 (0.216 sec)\n"
     ]
    },
    {
     "name": "stdout",
     "output_type": "stream",
     "text": [
      "INFO:tensorflow:global_step/sec: 566.095\n",
      "INFO:tensorflow:loss = 2.33529e+11, step = 24201 (0.167 sec)\n",
      "INFO:tensorflow:global_step/sec: 566.668\n",
      "INFO:tensorflow:loss = 5.31645e+10, step = 24301 (0.180 sec)\n",
      "INFO:tensorflow:global_step/sec: 566.779\n",
      "INFO:tensorflow:loss = 1.30452e+11, step = 24401 (0.172 sec)\n",
      "INFO:tensorflow:global_step/sec: 432.109\n",
      "INFO:tensorflow:loss = 4.59742e+10, step = 24501 (0.231 sec)\n",
      "INFO:tensorflow:global_step/sec: 592.918\n",
      "INFO:tensorflow:loss = 5.117e+10, step = 24601 (0.185 sec)\n",
      "INFO:tensorflow:global_step/sec: 559.496\n",
      "INFO:tensorflow:loss = 4.67806e+10, step = 24701 (0.163 sec)\n",
      "INFO:tensorflow:global_step/sec: 453.727\n",
      "INFO:tensorflow:loss = 2.65373e+11, step = 24801 (0.222 sec)\n",
      "INFO:tensorflow:global_step/sec: 565.028\n",
      "INFO:tensorflow:loss = 8.02709e+10, step = 24901 (0.175 sec)\n",
      "INFO:tensorflow:Saving checkpoints for 25000 into C:\\Users\\TINYAN~1\\AppData\\Local\\Temp\\tmprjl5855m\\model.ckpt.\n",
      "INFO:tensorflow:Loss for final step: 9.07702e+10.\n"
     ]
    },
    {
     "data": {
      "text/plain": [
       "<tensorflow.python.estimator.canned.dnn.DNNRegressor at 0x1cbcf42d320>"
      ]
     },
     "execution_count": 20,
     "metadata": {},
     "output_type": "execute_result"
    }
   ],
   "source": [
    "model.train(input_fn=input_func,steps=25000)"
   ]
  },
  {
   "cell_type": "markdown",
   "metadata": {},
   "source": [
    "** Create a prediction input function and then use the .predict method off your estimator model to create a list or predictions on your test data. **"
   ]
  },
  {
   "cell_type": "code",
   "execution_count": 21,
   "metadata": {
    "collapsed": true
   },
   "outputs": [],
   "source": [
    "predict_input_func = tf.estimator.inputs.pandas_input_fn(\n",
    "      x=X_test,\n",
    "      batch_size=10,\n",
    "      num_epochs=1,\n",
    "      shuffle=False)"
   ]
  },
  {
   "cell_type": "code",
   "execution_count": 22,
   "metadata": {
    "collapsed": true
   },
   "outputs": [],
   "source": [
    "pred_gen = model.predict(predict_input_func)"
   ]
  },
  {
   "cell_type": "code",
   "execution_count": 23,
   "metadata": {},
   "outputs": [
    {
     "name": "stdout",
     "output_type": "stream",
     "text": [
      "INFO:tensorflow:Restoring parameters from C:\\Users\\TINYAN~1\\AppData\\Local\\Temp\\tmprjl5855m\\model.ckpt-25000\n"
     ]
    }
   ],
   "source": [
    "predictions = list(pred_gen)"
   ]
  },
  {
   "cell_type": "markdown",
   "metadata": {},
   "source": [
    "** Calculate the RMSE. Do this manually or use [sklearn.metrics](http://scikit-learn.org/stable/modules/generated/sklearn.metrics.mean_squared_error.html) **"
   ]
  },
  {
   "cell_type": "code",
   "execution_count": 24,
   "metadata": {
    "collapsed": true
   },
   "outputs": [],
   "source": [
    "final_preds = []\n",
    "for pred in predictions:\n",
    "    final_preds.append(pred['predictions'])"
   ]
  },
  {
   "cell_type": "code",
   "execution_count": 25,
   "metadata": {
    "collapsed": true
   },
   "outputs": [],
   "source": [
    "from sklearn.metrics import mean_squared_error"
   ]
  },
  {
   "cell_type": "code",
   "execution_count": 26,
   "metadata": {},
   "outputs": [
    {
     "data": {
      "text/plain": [
       "98666.17899100158"
      ]
     },
     "execution_count": 26,
     "metadata": {},
     "output_type": "execute_result"
    }
   ],
   "source": [
    "mean_squared_error(y_test,final_preds)**0.5"
   ]
  },
  {
   "cell_type": "markdown",
   "metadata": {},
   "source": [
    "# Great Job!"
   ]
  }
 ],
 "metadata": {
  "kernelspec": {
   "display_name": "Python 3",
   "language": "python",
   "name": "python3"
  },
  "language_info": {
   "codemirror_mode": {
    "name": "ipython",
    "version": 3
   },
   "file_extension": ".py",
   "mimetype": "text/x-python",
   "name": "python",
   "nbconvert_exporter": "python",
   "pygments_lexer": "ipython3",
   "version": "3.5.4"
  }
 },
 "nbformat": 4,
 "nbformat_minor": 2
}
